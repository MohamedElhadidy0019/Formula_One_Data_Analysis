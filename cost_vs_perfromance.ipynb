{
 "cells": [
  {
   "cell_type": "code",
   "execution_count": 1,
   "metadata": {},
   "outputs": [],
   "source": [
    "import pandas as pd\n",
    "import numpy as np"
   ]
  },
  {
   "cell_type": "code",
   "execution_count": null,
   "metadata": {},
   "outputs": [],
   "source": [
    "# costs from 2010 to 2020 (in millions), as after searching the interent there was cost cap that was introduced in 2021\n",
    "# which made the teams more confidnential about their costs\n",
    "\n",
    "# 1. Red Bull Racing (EUR266m + EUR35.7m + EUR167m) = EUR468.7m\n",
    "# 2. Mercedes (EUR122m + EUR212.4m + EUR133m) = EUR467.4m\n",
    "# 3. McLaren Honda (EUR144.5m + EUR216.5m + EUR104m) = EUR465m\n",
    "# 4. Ferrari (EUR208.5m + EUR34.5m + EUR175m) = EUR418m\n",
    "\n",
    "# to dict\n",
    "costs_2015 = {\n",
    "    'Red Bull Racing': 468.7,\n",
    "    'Mercedes': 467.4,\n",
    "    'McLaren Honda': 465,\n",
    "    'Ferrari': 418\n",
    "}\n"
   ]
  },
  {
   "cell_type": "code",
   "execution_count": 2,
   "metadata": {},
   "outputs": [],
   "source": [
    "# F1 Teams\t                                    Budget Between 2015 & 2019\n",
    "# 2015\t2016\t2017\t2018\t2019\n",
    "# Mercedes\t$527.6M\t$352M\t$352.1M\t$400M\t$484M\n",
    "# Ferrari\t$474.7M\t$483.3M\t$295.3M\t$410M\t$463M\n",
    "# Red Bull\t$532.5M\t$286.2M\t$284M\t$310M\t$445M\n",
    "# McLaren\t$528.3M\t$246.4M\t$240.8M\t$220M\t$269M\n",
    "# Alpine (Renault/Lotus)\t$149.8M\t199.8M\t$195.4M\t$190M\t$272M\n",
    "# Aston Martin (Racing Point/Force India)\t$147.3M\t$119.2M\t$117M\t$120M\t$188M\n",
    "# AlphaTauri (Toro Rosso)\t$156.1M\t$132.8M\t$130.6M\t$150M\t$138M\n",
    "# Alfa Romeo (Sauber)\t$117.2M\t$126M\t$123.8M\t$135M\t$132M\n",
    "# Williams\t$217.7M\t$139.6M\t$136.3M\t$150M\t$141M\n",
    "# Haas\tNA\tNA\t$130.6M\t$130M\t$173M\n",
    "\n",
    "# to pandas csv\n",
    "costs_2015_2019 = pd.DataFrame({\n",
    "    'Mercedes': [527.6, 352, 352.1, 400, 484],\n",
    "    'Ferrari': [474.7, 483.3, 295.3, 410, 463],\n",
    "    'Red Bull': [532.5, 286.2, 284, 310, 445],\n",
    "    'McLaren': [528.3, 246.4, 240.8, 220, 269],\n",
    "    'Alpine (Renault/Lotus)': [149.8, 199.8, 195.4, 190, 272],\n",
    "    'Aston Martin (Racing Point/Force India)': [147.3, 119.2, 117, 120, 188],\n",
    "    'AlphaTauri (Toro Rosso)': [156.1, 132.8, 130.6, 150, 138],\n",
    "    'Alfa Romeo (Sauber)': [117.2, 126, 123.8, 135, 132],\n",
    "    'Williams': [217.7, 139.6, 136.3, 150, 141],\n",
    "}, index=[2015, 2016, 2017, 2018, 2019])"
   ]
  },
  {
   "cell_type": "code",
   "execution_count": 3,
   "metadata": {},
   "outputs": [
    {
     "data": {
      "text/html": [
       "<div>\n",
       "<style scoped>\n",
       "    .dataframe tbody tr th:only-of-type {\n",
       "        vertical-align: middle;\n",
       "    }\n",
       "\n",
       "    .dataframe tbody tr th {\n",
       "        vertical-align: top;\n",
       "    }\n",
       "\n",
       "    .dataframe thead th {\n",
       "        text-align: right;\n",
       "    }\n",
       "</style>\n",
       "<table border=\"1\" class=\"dataframe\">\n",
       "  <thead>\n",
       "    <tr style=\"text-align: right;\">\n",
       "      <th></th>\n",
       "      <th>Mercedes</th>\n",
       "      <th>Ferrari</th>\n",
       "      <th>Red Bull</th>\n",
       "      <th>McLaren</th>\n",
       "      <th>Alpine (Renault/Lotus)</th>\n",
       "      <th>Aston Martin (Racing Point/Force India)</th>\n",
       "      <th>AlphaTauri (Toro Rosso)</th>\n",
       "      <th>Alfa Romeo (Sauber)</th>\n",
       "      <th>Williams</th>\n",
       "      <th>Haas</th>\n",
       "    </tr>\n",
       "  </thead>\n",
       "  <tbody>\n",
       "    <tr>\n",
       "      <th>2015</th>\n",
       "      <td>527.6</td>\n",
       "      <td>474.7</td>\n",
       "      <td>532.5</td>\n",
       "      <td>528.3</td>\n",
       "      <td>149.8</td>\n",
       "      <td>147.3</td>\n",
       "      <td>156.1</td>\n",
       "      <td>117.2</td>\n",
       "      <td>217.7</td>\n",
       "      <td>NaN</td>\n",
       "    </tr>\n",
       "    <tr>\n",
       "      <th>2016</th>\n",
       "      <td>352.0</td>\n",
       "      <td>483.3</td>\n",
       "      <td>286.2</td>\n",
       "      <td>246.4</td>\n",
       "      <td>199.8</td>\n",
       "      <td>119.2</td>\n",
       "      <td>132.8</td>\n",
       "      <td>126.0</td>\n",
       "      <td>139.6</td>\n",
       "      <td>NaN</td>\n",
       "    </tr>\n",
       "    <tr>\n",
       "      <th>2017</th>\n",
       "      <td>352.1</td>\n",
       "      <td>295.3</td>\n",
       "      <td>284.0</td>\n",
       "      <td>240.8</td>\n",
       "      <td>195.4</td>\n",
       "      <td>117.0</td>\n",
       "      <td>130.6</td>\n",
       "      <td>123.8</td>\n",
       "      <td>136.3</td>\n",
       "      <td>130.6</td>\n",
       "    </tr>\n",
       "    <tr>\n",
       "      <th>2018</th>\n",
       "      <td>400.0</td>\n",
       "      <td>410.0</td>\n",
       "      <td>310.0</td>\n",
       "      <td>220.0</td>\n",
       "      <td>190.0</td>\n",
       "      <td>120.0</td>\n",
       "      <td>150.0</td>\n",
       "      <td>135.0</td>\n",
       "      <td>150.0</td>\n",
       "      <td>130.0</td>\n",
       "    </tr>\n",
       "    <tr>\n",
       "      <th>2019</th>\n",
       "      <td>484.0</td>\n",
       "      <td>463.0</td>\n",
       "      <td>445.0</td>\n",
       "      <td>269.0</td>\n",
       "      <td>272.0</td>\n",
       "      <td>188.0</td>\n",
       "      <td>138.0</td>\n",
       "      <td>132.0</td>\n",
       "      <td>141.0</td>\n",
       "      <td>173.0</td>\n",
       "    </tr>\n",
       "  </tbody>\n",
       "</table>\n",
       "</div>"
      ],
      "text/plain": [
       "      Mercedes  Ferrari  Red Bull  McLaren  Alpine (Renault/Lotus)  \\\n",
       "2015     527.6    474.7     532.5    528.3                   149.8   \n",
       "2016     352.0    483.3     286.2    246.4                   199.8   \n",
       "2017     352.1    295.3     284.0    240.8                   195.4   \n",
       "2018     400.0    410.0     310.0    220.0                   190.0   \n",
       "2019     484.0    463.0     445.0    269.0                   272.0   \n",
       "\n",
       "      Aston Martin (Racing Point/Force India)  AlphaTauri (Toro Rosso)  \\\n",
       "2015                                    147.3                    156.1   \n",
       "2016                                    119.2                    132.8   \n",
       "2017                                    117.0                    130.6   \n",
       "2018                                    120.0                    150.0   \n",
       "2019                                    188.0                    138.0   \n",
       "\n",
       "      Alfa Romeo (Sauber)  Williams   Haas  \n",
       "2015                117.2     217.7    NaN  \n",
       "2016                126.0     139.6    NaN  \n",
       "2017                123.8     136.3  130.6  \n",
       "2018                135.0     150.0  130.0  \n",
       "2019                132.0     141.0  173.0  "
      ]
     },
     "execution_count": 3,
     "metadata": {},
     "output_type": "execute_result"
    }
   ],
   "source": [
    "costs_2015_2019.head()"
   ]
  },
  {
   "cell_type": "code",
   "execution_count": 4,
   "metadata": {},
   "outputs": [],
   "source": [
    "# get merc in 2015\n",
    "r"
   ]
  },
  {
   "cell_type": "code",
   "execution_count": 5,
   "metadata": {},
   "outputs": [
    {
     "data": {
      "text/plain": [
       "527.6"
      ]
     },
     "execution_count": 5,
     "metadata": {},
     "output_type": "execute_result"
    }
   ],
   "source": [
    "merc_2015"
   ]
  },
  {
   "cell_type": "code",
   "execution_count": null,
   "metadata": {},
   "outputs": [],
   "source": []
  }
 ],
 "metadata": {
  "kernelspec": {
   "display_name": "base",
   "language": "python",
   "name": "python3"
  },
  "language_info": {
   "codemirror_mode": {
    "name": "ipython",
    "version": 3
   },
   "file_extension": ".py",
   "mimetype": "text/x-python",
   "name": "python",
   "nbconvert_exporter": "python",
   "pygments_lexer": "ipython3",
   "version": "3.9.12"
  },
  "orig_nbformat": 4
 },
 "nbformat": 4,
 "nbformat_minor": 2
}
