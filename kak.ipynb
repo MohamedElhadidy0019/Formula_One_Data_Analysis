{
 "cells": [
  {
   "cell_type": "code",
   "execution_count": 7,
   "metadata": {},
   "outputs": [],
   "source": [
    "import pandas as pd\n",
    "from sklearn.model_selection import train_test_split\n",
    "from sklearn.linear_model import LinearRegression\n",
    "\n",
    "# Load the lap times data\n",
    "lap_times = pd.read_csv('dataset/lap_times.csv')\n",
    "\n",
    "# Select lap times for a particular driver and circuit for the next race\n",
    "driver_id = 1  # Change this to the ID of the particular driver you want to make a prediction for\n",
    "circuit_id = 8  # Change this to the ID of the circuit for the next race\n",
    "lap_times = lap_times[(lap_times['driverId'] == driver_id) & (lap_times['raceId'] == circuit_id)]\n",
    "\n",
    "# Engineer additional features if desired\n",
    "\n",
    "# Split the data into training and testing sets\n",
    "X = lap_times[['lap']]  # Use lap number as the input feature\n",
    "y = lap_times['milliseconds']  # Use lap time in milliseconds as the target variable\n",
    "X_train, X_test, y_train, y_test = train_test_split(X, y, test_size=0.2, random_state=42)\n"
   ]
  },
  {
   "cell_type": "code",
   "execution_count": 8,
   "metadata": {},
   "outputs": [
    {
     "data": {
      "text/plain": [
       "47"
      ]
     },
     "execution_count": 8,
     "metadata": {},
     "output_type": "execute_result"
    }
   ],
   "source": [
    "len(X_train)"
   ]
  },
  {
   "cell_type": "code",
   "execution_count": 9,
   "metadata": {},
   "outputs": [
    {
     "name": "stdout",
     "output_type": "stream",
     "text": [
      "R^2 score: -0.0381\n",
      "Predicted time for lap 60: 85529.12 milliseconds\n"
     ]
    },
    {
     "name": "stderr",
     "output_type": "stream",
     "text": [
      "/home/mnabail/anaconda3/lib/python3.9/site-packages/sklearn/base.py:450: UserWarning: X does not have valid feature names, but LinearRegression was fitted with feature names\n",
      "  warnings.warn(\n"
     ]
    }
   ],
   "source": [
    "\n",
    "# Train a linear regression model\n",
    "lr = LinearRegression()\n",
    "lr.fit(X_train, y_train)\n",
    "\n",
    "# Evaluate the model on the testing set\n",
    "r2_score = lr.score(X_test, y_test)\n",
    "print(f'R^2 score: {r2_score:.4f}')\n",
    "\n",
    "# Make predictions for the lap time of the particular driver for the next race\n",
    "next_lap_number = lap_times['lap'].max() + 1  # Predict the lap time for the next lap\n",
    "next_lap_time = lr.predict([[next_lap_number]])\n",
    "print(f'Predicted time for lap {next_lap_number}: {next_lap_time[0]:.2f} milliseconds')"
   ]
  },
  {
   "cell_type": "code",
   "execution_count": null,
   "metadata": {},
   "outputs": [],
   "source": []
  }
 ],
 "metadata": {
  "kernelspec": {
   "display_name": "base",
   "language": "python",
   "name": "python3"
  },
  "language_info": {
   "codemirror_mode": {
    "name": "ipython",
    "version": 3
   },
   "file_extension": ".py",
   "mimetype": "text/x-python",
   "name": "python",
   "nbconvert_exporter": "python",
   "pygments_lexer": "ipython3",
   "version": "3.9.12"
  },
  "orig_nbformat": 4
 },
 "nbformat": 4,
 "nbformat_minor": 2
}
